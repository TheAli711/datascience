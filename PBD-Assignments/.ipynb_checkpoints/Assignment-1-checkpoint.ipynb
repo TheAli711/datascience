{
 "cells": [
  {
   "cell_type": "markdown",
   "id": "e620aee8",
   "metadata": {},
   "source": [
    "# Question\n",
    "## Using the dataset (https://www.kaggle.com/raddar/nodules-in-chest-xrays-jsrt) file name is jsrt_metadata.csv:\n",
    "1. Find the total number of patients of each disease (diagnosis) and plot in histogram.\n",
    "2. Find the total number of patients of each disease (diagnosis) with respect to the disease state(malignant or benign) and plot in a pie chart.\n",
    "3. Find and plot via pia chart the total number of patients of each disease (diagnosis) with respect to the gender(Female, Male)"
   ]
  },
  {
   "cell_type": "markdown",
   "id": "626777cb",
   "metadata": {},
   "source": [
    "### Step 1: Cleaning Data"
   ]
  },
  {
   "cell_type": "code",
   "execution_count": null,
   "id": "eabd9b69",
   "metadata": {},
   "outputs": [],
   "source": [
    "import pandas as pd\n",
    "import numpy as np\n",
    "df = pd.read_csv(\"jsrt_metadata.csv\")\n",
    "print(\"Number of Missing values before Data cleaning\")\n",
    "print(\"---------------------------------------------\")\n",
    "print(df.isnull().sum())\n",
    "print(\"---------------------------------------------\")\n",
    "\n",
    "# As [subtlety,size,x,y] is float value so we replace missing values by mean of the column\n",
    "df['subtlety'].replace(np.nan, df['subtlety'].astype(float).mean(), inplace=True)\n",
    "df['size'].replace(np.nan, df['size'].astype(float).mean(), inplace=True)\n",
    "df['x'].replace(np.nan, df['x'].astype(float).mean(), inplace=True)\n",
    "df['y'].replace(np.nan, df['y'].astype(float).mean(), inplace=True)\n",
    "\n",
    "# As [position, diagnosis] is a categorical value, so we replace missing values by most occuring\n",
    "df['position'].replace(np.nan, df['position'].value_counts().idxmax(), inplace=True)\n",
    "df['diagnosis'].replace(np.nan, df['position'].value_counts().idxmax(), inplace=True)\n",
    "\n",
    "\n",
    "print(\"Number of Missing values after Data cleaning\")\n",
    "print(\"---------------------------------------------\")\n",
    "print(df.isnull().sum())\n",
    "print(\"---------------------------------------------\")"
   ]
  },
  {
   "cell_type": "markdown",
   "id": "3592d573",
   "metadata": {},
   "source": [
    "### Step 2: Find the total number of patients of each disease (diagnosis) and plot in histogram."
   ]
  },
  {
   "cell_type": "code",
   "execution_count": null,
   "id": "5c418f70",
   "metadata": {},
   "outputs": [],
   "source": [
    "import matplotlib as plt\n",
    "from matplotlib import pyplot\n",
    "df['diagnosis'].value_counts() # This gives the count of each disease\n",
    "\n",
    "plt.pyplot.xlabel(\"Diagnosis\")\n",
    "plt.pyplot.ylabel(\"Number of Patients\")\n",
    "plt.pyplot.hist(df['diagnosis'], edgecolor=\"black\")"
   ]
  },
  {
   "cell_type": "markdown",
   "id": "c0c54b35",
   "metadata": {},
   "source": [
    "### Step 3: Find the total number of patients of each disease (diagnosis) with respect to the disease state(malignant or benign) and plot in a pie chart.\n"
   ]
  },
  {
   "cell_type": "code",
   "execution_count": null,
   "id": "76ad4c66",
   "metadata": {},
   "outputs": [],
   "source": [
    "import matplotlib as plt\n",
    "from matplotlib import pyplot\n",
    "\n",
    "# This gives us the total number of patient of each disease with respect to disease state (benign, malignant) and it's pie chart\n",
    "for i in list(df['diagnosis'].unique()):\n",
    "    plt.pyplot.figure()    # We create a new figure everytime so we get different plots.\n",
    "    plt.pyplot.pie(df.loc[df['diagnosis'] == i]['state'].value_counts(),labels=list(df.loc[df['diagnosis'] == i]['state'].value_counts().keys()), autopct=\"%1.0f%%\")\n",
    "    plt.pyplot.legend(title= i)\n",
    "    print(df.loc[df['diagnosis'] == i]['state'].value_counts())\n"
   ]
  },
  {
   "cell_type": "markdown",
   "id": "5967e503",
   "metadata": {},
   "source": [
    "### Step 3: Find the total number of patients of each disease (diagnosis) with respect to the patient gender (Male, Female) and plot in a pie chart.\n"
   ]
  },
  {
   "cell_type": "code",
   "execution_count": null,
   "id": "a0470ca2",
   "metadata": {},
   "outputs": [],
   "source": [
    "import matplotlib as plt\n",
    "from matplotlib import pyplot\n",
    "\n",
    "# This gives us the total number of patient of each disease with respect to gender and it's pie chart\n",
    "for i in list(df['diagnosis'].unique()):\n",
    "    plt.pyplot.figure()\n",
    "    plt.pyplot.pie(df.loc[df['diagnosis'] == i]['gender'].value_counts(),labels=list(df.loc[df['diagnosis'] == i]['gender'].value_counts().keys()), autopct=\"%1.0f%%\")\n",
    "    plt.pyplot.legend(title= i)\n",
    "    print(df.loc[df['diagnosis'] == i]['state'].value_counts())"
   ]
  },
  {
   "cell_type": "code",
   "execution_count": null,
   "id": "1c876551",
   "metadata": {},
   "outputs": [],
   "source": []
  }
 ],
 "metadata": {
  "kernelspec": {
   "display_name": "Python 3 (ipykernel)",
   "language": "python",
   "name": "python3"
  },
  "language_info": {
   "codemirror_mode": {
    "name": "ipython",
    "version": 3
   },
   "file_extension": ".py",
   "mimetype": "text/x-python",
   "name": "python",
   "nbconvert_exporter": "python",
   "pygments_lexer": "ipython3",
   "version": "3.9.7"
  }
 },
 "nbformat": 4,
 "nbformat_minor": 5
}
